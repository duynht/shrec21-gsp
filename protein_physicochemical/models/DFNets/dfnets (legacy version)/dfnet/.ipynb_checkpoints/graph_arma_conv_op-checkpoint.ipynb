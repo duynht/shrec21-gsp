{
 "cells": [
  {
   "cell_type": "code",
   "execution_count": 1,
   "metadata": {},
   "outputs": [
    {
     "name": "stderr",
     "output_type": "stream",
     "text": [
      "/home/users/u6537967/anaconda3/lib/python3.6/site-packages/h5py/__init__.py:36: FutureWarning: Conversion of the second argument of issubdtype from `float` to `np.floating` is deprecated. In future, it will be treated as `np.float64 == np.dtype(float).type`.\n",
      "  from ._conv import register_converters as _register_converters\n",
      "Using TensorFlow backend.\n"
     ]
    }
   ],
   "source": [
    "import keras.backend as K\n",
    "import tensorflow as tf"
   ]
  },
  {
   "cell_type": "code",
   "execution_count": null,
   "metadata": {},
   "outputs": [],
   "source": [
    "def arma_graph_conv(x, num_filters, arma_conv_filters, numerator_poly_coeff, denominator_poly_coeff, \n",
    "                    max_iterations, tolerance, kernel):\n",
    "        \n",
    "        b = numerator_poly_coeff\n",
    "        a = denominator_poly_coeff\n",
    "        L = arma_conv_filters\n",
    "        \n",
    "        #max_iterations = L.shape[0]\n",
    "    \n",
    "        # sparse polynomial multiplication \n",
    "        def L_mult(coef, x):\n",
    "            y = K.dot(coef[0], x)\n",
    "            for i in range(1, len(coef)):\n",
    "                x = K.dot(L, x)\n",
    "                y = y + K.dot(coef[i], x)\n",
    "\n",
    "            return y\n",
    "\n",
    "        b = L_mult(b, x)\n",
    "\n",
    "        # initialization \n",
    "        y0 = b\n",
    "\n",
    "        y = y0\n",
    "        r = b - L_mult(a, y)\n",
    "        p = r\n",
    "        rsold = K.dot(K.transpose(r), r)   #r.conj().transpose())*r\n",
    "\n",
    "        for k in range(0, max_iterations):\n",
    "\n",
    "            Ap = L_mult(a, p) \n",
    "            alpha = rsold /K.dot(K.transpose(p, Ap))  #(p.conj().transpose() * Ap) \n",
    "\n",
    "            y = y + K.dot(alpha, p)   #alpha * p \n",
    "            r = r - K.dot(alpha, Ap)  #alpha * Ap \n",
    "            rsnew = K.dot(K.transpose(r), r)  #(r.conj().transpose())*r\n",
    "\n",
    "            if(np.sqrt(rsnew).all() <= tolerance):\n",
    "                break\n",
    "\n",
    "            p = r +  K.dot((rsnew/rsold), p)  #(rsnew/rsold)*p\n",
    "            rsold = rsnew\n",
    "        \n",
    "        conv_op = tf.split(y, num_filters, axis=0)\n",
    "        conv_op = K.concatenate(conv_op, axis=1)\n",
    "        \n",
    "        conv_out = K.dot(conv_op, kernel)\n",
    "        \n",
    "        return conv_out"
   ]
  }
 ],
 "metadata": {
  "kernelspec": {
   "display_name": "Python 3",
   "language": "python",
   "name": "python3"
  },
  "language_info": {
   "codemirror_mode": {
    "name": "ipython",
    "version": 3
   },
   "file_extension": ".py",
   "mimetype": "text/x-python",
   "name": "python",
   "nbconvert_exporter": "python",
   "pygments_lexer": "ipython3",
   "version": "3.6.5"
  }
 },
 "nbformat": 4,
 "nbformat_minor": 2
}
